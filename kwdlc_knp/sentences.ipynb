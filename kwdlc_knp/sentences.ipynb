{
 "cells": [
  {
   "cell_type": "code",
   "execution_count": 1,
   "metadata": {},
   "outputs": [
    {
     "name": "stderr",
     "output_type": "stream",
     "text": [
      "100%|██████████| 5127/5127 [00:03<00:00, 1384.74it/s]\n"
     ]
    }
   ],
   "source": [
    "from pathlib import Path\n",
    "from typing import List\n",
    "from dataclasses import dataclass\n",
    "import pandas as pd\n",
    "import tqdm\n",
    "\n",
    "@dataclass\n",
    "class SentenceWithName:\n",
    "    sid: str\n",
    "    tokens: List[str]\n",
    "    name_loc: int\n",
    "\n",
    "def knp_to_sentences(knp: Path) -> List:\n",
    "    # The sentences are extracted with sentence id(sid), tokens(sent) and location of name tokens (name_loc)\n",
    "    # Note that the name_loc here is on char level\n",
    "    sids, sents, name_loc = list(), list(), list()\n",
    "\n",
    "    with open(knp, 'r') as f:\n",
    "        sid = None\n",
    "        tks = list()\n",
    "        loc = list()\n",
    "        for line in f:\n",
    "            if line.startswith(\"*\") or line.startswith(\"+\"):\n",
    "                # Skip dependencies\n",
    "                continue\n",
    "            if line.startswith(\"# S-ID:\"):\n",
    "                sid = line.split(\"# S-ID:\")[1].split()[0]\n",
    "                continue\n",
    "            if line.strip() == \"EOS\":\n",
    "                if loc:\n",
    "                    # The sentence contains names\n",
    "                    sids.append(sid)\n",
    "                    sents.append(''.join(tks))\n",
    "                    name_loc.append(loc)\n",
    "\n",
    "                sid = None\n",
    "                tks = list()\n",
    "                loc = list()\n",
    "                continue\n",
    "            token, labels = line.split(' ', maxsplit=1)\n",
    "            if \"人名\" in labels:\n",
    "                # locate the name on character level\n",
    "                s = len(''.join(tks))\n",
    "                e = s + len(token)\n",
    "                # convert [(a, b), (b, c)] to [(a, c)]\n",
    "                if loc and loc[-1][1] == s:\n",
    "                    loc[-1][1] = e\n",
    "                else:\n",
    "                    loc.append([s, e])\n",
    "            tks.append(token)\n",
    "    return sids, sents, name_loc\n",
    "\n",
    "\n",
    "base_path = Path(\".\")\n",
    "\n",
    "files = list(base_path.glob(\"**/*.knp\"))\n",
    "sids, sents, name_loc = list(), list(), list()\n",
    "for p in tqdm.tqdm(files):\n",
    "    s, t, l = knp_to_sentences(p)\n",
    "    sids += s\n",
    "    sents += t\n",
    "    name_loc += l"
   ]
  },
  {
   "cell_type": "code",
   "execution_count": 20,
   "metadata": {},
   "outputs": [
    {
     "name": "stdout",
     "output_type": "stream",
     "text": [
      "5127\n",
      "983\n"
     ]
    }
   ],
   "source": []
  },
  {
   "cell_type": "code",
   "execution_count": 2,
   "metadata": {},
   "outputs": [
    {
     "name": "stdout",
     "output_type": "stream",
     "text": [
      "[19, 23]\n"
     ]
    }
   ],
   "source": [
    "df = pd.DataFrame({\n",
    "    \"id\": sids,\n",
    "    \"text\": sents,\n",
    "    \"labels\": name_loc\n",
    "})\n",
    "df.to_csv(\"sentences.csv\", index=False)"
   ]
  },
  {
   "cell_type": "code",
   "execution_count": 3,
   "metadata": {},
   "outputs": [
    {
     "name": "stdout",
     "output_type": "stream",
     "text": [
      "id,text,labels\n",
      "w201106-0001277619-1,布川事件を描いたドキュメンタリー映画「ショージとタカオ」の試写会に行ってきました。,\"[[19, 23], [24, 27]]\"\n",
      "w201106-0001292454-3,東京・霞が関の国交省で、小泉俊明政務官から近藤隆則高梁市長に認定証が手渡された。,\"[[12, 16], [21, 25]]\"\n",
      "w201106-0001231705-1,こんにちはソロルファクトリーのサトウナオコです。,\"[[15, 21]]\"\n",
      "w201106-0001241209-2,土俵入りの型には雲龍型と不知火型がある。,\"[[8, 10], [12, 15]]\"\n",
      "w201106-0001241209-3,それぞれ１０代横綱・雲龍久吉と１１代横綱・不知火光右衛門の型が伝えられたものであるとされている。,\"[[10, 14], [21, 28]]\"\n",
      "w201106-0001290480-1,藩命にて武器や軍艦の買い付けに長崎へとやってきた土佐藩参政・後藤象二郎の居宅跡です。,\"[[30, 35]]\"\n",
      "w201106-0001290480-2,後に岩崎弥太郎が譲り受けました。,\"[[2, 7]]\"\n",
      "w201106-0001243550-1,ジェイデータは、前米副大統領アルバート・ゴア・ジュニア氏が同社の戦略顧問に就任したと発表した。,\"[[14, 19], [20, 22], [23, 27]]\"\n",
      "w201106-0001243550-3,また、副大統領時代の経済および情報通信戦略顧問だったグレッグ・サイモン氏もゴア氏の補佐役として実務面を担当する。,\"[[26, 30], [31, 35], [37, 39]]\"\n"
     ]
    }
   ],
   "source": [
    "!head sentences.csv"
   ]
  },
  {
   "cell_type": "code",
   "execution_count": null,
   "metadata": {},
   "outputs": [],
   "source": []
  }
 ],
 "metadata": {
  "interpreter": {
   "hash": "aee8b7b246df8f9039afb4144a1f6fd8d2ca17a180786b69acc140d282b71a49"
  },
  "kernelspec": {
   "display_name": "Python 3.8.10 64-bit",
   "language": "python",
   "name": "python3"
  },
  "language_info": {
   "codemirror_mode": {
    "name": "ipython",
    "version": 3
   },
   "file_extension": ".py",
   "mimetype": "text/x-python",
   "name": "python",
   "nbconvert_exporter": "python",
   "pygments_lexer": "ipython3",
   "version": "3.8.10"
  },
  "orig_nbformat": 4
 },
 "nbformat": 4,
 "nbformat_minor": 2
}

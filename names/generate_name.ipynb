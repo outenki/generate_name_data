{
 "cells": [
  {
   "cell_type": "code",
   "execution_count": 69,
   "metadata": {},
   "outputs": [
    {
     "name": "stdout",
     "output_type": "stream",
     "text": [
      "      name   rank\n",
      "0       佐藤      1\n",
      "1       鈴木      2\n",
      "2       高橋      3\n",
      "3       田中      4\n",
      "4       伊藤      5\n",
      "...    ...    ...\n",
      "39992    陰  39996\n",
      "39993  日名川  39997\n",
      "39994   梶梅  39998\n",
      "39995   西途  39999\n",
      "39996   鈴記  40000\n",
      "\n",
      "[39997 rows x 2 columns]\n"
     ]
    }
   ],
   "source": [
    "# Load famaly name\n",
    "import pandas as pd\n",
    "PAGE = 80\n",
    "fn_list = list()\n",
    "for p in range(PAGE):\n",
    "    fn_list.append(pd.read_json(f'family_name/family_name_page_{p}.json')[[\"rank\", \"family_name\"]])\n",
    "fn_df = pd.concat(fn_list).rename(columns={\"family_name\": \"name\"})[[\"name\", \"rank\"]]\n",
    "fn_df = fn_df.sort_values(by=\"rank\").reset_index(drop=True)\n",
    "print(fn_df)"
   ]
  },
  {
   "cell_type": "code",
   "execution_count": 70,
   "metadata": {},
   "outputs": [
    {
     "name": "stdout",
     "output_type": "stream",
     "text": [
      "    name  rank\n",
      "0    くるみ  43.0\n",
      "1    こころ  25.0\n",
      "2    さくら   1.0\n",
      "3    ひなた  10.0\n",
      "4    ほのか  61.0\n",
      "..   ...   ...\n",
      "197   颯人  35.0\n",
      "198   颯太   2.0\n",
      "199   颯斗  45.0\n",
      "200   颯汰  18.0\n",
      "201    駿  59.0\n",
      "\n",
      "[202 rows x 2 columns]\n"
     ]
    }
   ],
   "source": [
    "def read_given_names(csv_path: str) -> pd.DataFrame:\n",
    "    df = pd.read_json(csv_path)[[\"name\", \"rank\", \"sex\"]].set_index(\"name\")\n",
    "    # The rank is for male and female respectively\n",
    "    # Here we take the averave rank as the rank of names\n",
    "    df_m = df[df['sex'] == \"m\"][[\"rank\"]]\n",
    "    df_f = df[df['sex'] == \"f\"][[\"rank\"]]\n",
    "    df = df_m.join(df_f, how=\"outer\", lsuffix=\"_m\", rsuffix=\"_f\")\n",
    "    df[\"rank\"] = df.mean(1)\n",
    "    df = df.reset_index()\n",
    "    return df[[\"name\", \"rank\"]]\n",
    "\n",
    "file = \"given_name/name_ranking_data_2004.json\"\n",
    "df = read_given_names(file)\n",
    "print(df)\n"
   ]
  },
  {
   "cell_type": "code",
   "execution_count": 71,
   "metadata": {},
   "outputs": [
    {
     "data": {
      "text/html": [
       "<div>\n",
       "<style scoped>\n",
       "    .dataframe tbody tr th:only-of-type {\n",
       "        vertical-align: middle;\n",
       "    }\n",
       "\n",
       "    .dataframe tbody tr th {\n",
       "        vertical-align: top;\n",
       "    }\n",
       "\n",
       "    .dataframe thead th {\n",
       "        text-align: right;\n",
       "    }\n",
       "</style>\n",
       "<table border=\"1\" class=\"dataframe\">\n",
       "  <thead>\n",
       "    <tr style=\"text-align: right;\">\n",
       "      <th></th>\n",
       "      <th>name</th>\n",
       "      <th>rank</th>\n",
       "    </tr>\n",
       "  </thead>\n",
       "  <tbody>\n",
       "    <tr>\n",
       "      <th>0</th>\n",
       "      <td>大翔</td>\n",
       "      <td>1.714286</td>\n",
       "    </tr>\n",
       "    <tr>\n",
       "      <th>1</th>\n",
       "      <td>陽菜</td>\n",
       "      <td>2.000000</td>\n",
       "    </tr>\n",
       "    <tr>\n",
       "      <th>2</th>\n",
       "      <td>さくら</td>\n",
       "      <td>2.857143</td>\n",
       "    </tr>\n",
       "    <tr>\n",
       "      <th>3</th>\n",
       "      <td>美咲</td>\n",
       "      <td>5.428571</td>\n",
       "    </tr>\n",
       "    <tr>\n",
       "      <th>4</th>\n",
       "      <td>翔太</td>\n",
       "      <td>6.857143</td>\n",
       "    </tr>\n",
       "    <tr>\n",
       "      <th>...</th>\n",
       "      <td>...</td>\n",
       "      <td>...</td>\n",
       "    </tr>\n",
       "    <tr>\n",
       "      <th>553</th>\n",
       "      <td>侑真</td>\n",
       "      <td>100.000000</td>\n",
       "    </tr>\n",
       "    <tr>\n",
       "      <th>554</th>\n",
       "      <td>奏斗</td>\n",
       "      <td>100.000000</td>\n",
       "    </tr>\n",
       "    <tr>\n",
       "      <th>555</th>\n",
       "      <td>英太</td>\n",
       "      <td>100.000000</td>\n",
       "    </tr>\n",
       "    <tr>\n",
       "      <th>556</th>\n",
       "      <td>颯介</td>\n",
       "      <td>100.000000</td>\n",
       "    </tr>\n",
       "    <tr>\n",
       "      <th>557</th>\n",
       "      <td>瞬</td>\n",
       "      <td>100.000000</td>\n",
       "    </tr>\n",
       "  </tbody>\n",
       "</table>\n",
       "<p>558 rows × 2 columns</p>\n",
       "</div>"
      ],
      "text/plain": [
       "    name        rank\n",
       "0     大翔    1.714286\n",
       "1     陽菜    2.000000\n",
       "2    さくら    2.857143\n",
       "3     美咲    5.428571\n",
       "4     翔太    6.857143\n",
       "..   ...         ...\n",
       "553   侑真  100.000000\n",
       "554   奏斗  100.000000\n",
       "555   英太  100.000000\n",
       "556   颯介  100.000000\n",
       "557    瞬  100.000000\n",
       "\n",
       "[558 rows x 2 columns]"
      ]
     },
     "execution_count": 71,
     "metadata": {},
     "output_type": "execute_result"
    }
   ],
   "source": [
    "# import given name\n",
    "max_rank = 100\n",
    "rank_titles = list()\n",
    "\n",
    "file = \"given_name/name_ranking_data_2004.json\"\n",
    "df = read_given_names(file).set_index(\"name\")\n",
    "\n",
    "for year in range(2004, 2011):\n",
    "    file = f\"given_name/name_ranking_data_{year}.json\"\n",
    "    df_ = read_given_names(file).set_index(\"name\")\n",
    "\n",
    "    # Incase there is any rank value greater than 100 in some file\n",
    "    max_rank = max(max_rank, df_[\"rank\"].max())\n",
    "\n",
    "    # set rsuffix to the value of year, thus the replicated column \"rank\" will be updated to f\"rank{year}\"\n",
    "    df = df.join(df_, rsuffix=str(year), how=\"outer\")\n",
    "\n",
    "    rank_titles.append(f\"rank{year}\")\n",
    "df = df.fillna(max_rank)\n",
    "df['rank'] = df[rank_titles].mean(axis=1)\n",
    "df = df.sort_values(by=\"rank\").reset_index()\n",
    "gn_df = df[[\"name\", \"rank\"]]\n",
    "gn_df"
   ]
  },
  {
   "cell_type": "code",
   "execution_count": 72,
   "metadata": {},
   "outputs": [],
   "source": [
    "# get the top/middle/bottom 100 names (300 in total)\n",
    "def get_head_mid_tail_n(df: pd.DataFrame, num: int) -> pd.DataFrame:\n",
    "    if len(df) <= num:\n",
    "        return df\n",
    "    head = df.head(num)\n",
    "    tail = df.tail(num)\n",
    "    mid_loc = len(df)//2\n",
    "    mid = df.loc[mid_loc - num // 2: mid_loc + num // 2 - 1]\n",
    "    return pd.concat((head, mid, tail)).reset_index(drop=True)\n",
    "\n"
   ]
  },
  {
   "cell_type": "code",
   "execution_count": 73,
   "metadata": {},
   "outputs": [
    {
     "name": "stdout",
     "output_type": "stream",
     "text": [
      "    name   rank\n",
      "0     佐藤      1\n",
      "1     鈴木      2\n",
      "2     高橋      3\n",
      "3     田中      4\n",
      "4     伊藤      5\n",
      "..   ...    ...\n",
      "295    陰  39996\n",
      "296  日名川  39997\n",
      "297   梶梅  39998\n",
      "298   西途  39999\n",
      "299   鈴記  40000\n",
      "\n",
      "[300 rows x 2 columns]\n",
      "    name        rank\n",
      "0     大翔    1.714286\n",
      "1     陽菜    2.000000\n",
      "2    さくら    2.857143\n",
      "3     美咲    5.428571\n",
      "4     翔太    6.857143\n",
      "..   ...         ...\n",
      "295   侑真  100.000000\n",
      "296   奏斗  100.000000\n",
      "297   英太  100.000000\n",
      "298   颯介  100.000000\n",
      "299    瞬  100.000000\n",
      "\n",
      "[300 rows x 2 columns]\n"
     ]
    }
   ],
   "source": [
    "# get 300 family names and 300 given names\n",
    "fn_samples = get_head_mid_tail_n(fn_df, 100)\n",
    "print(fn_samples)\n",
    "gn_samples = get_head_mid_tail_n(gn_df, 100)\n",
    "print(gn_samples)"
   ]
  },
  {
   "cell_type": "code",
   "execution_count": 74,
   "metadata": {},
   "outputs": [],
   "source": [
    "# Extend names to katakana/hiragana/roma-ji\n",
    "import pykakasi\n",
    "import regex\n",
    "kakasi = pykakasi.Kakasi()\n",
    "\n",
    "def extend_names(name_df: pd.DataFrame) -> pd.DataFrame:\n",
    "    '''\n",
    "    Add columns of katakana/hiragana/roma-ji of the names\n",
    "    :param name_df: pd.DataFrame with columns of \"name\" and \"rank\"\n",
    "    '''\n",
    "    kanji, katakana, hiragana, roma = list(), list(), list(), list()\n",
    "    r_katakana = regex.compile(r'\\p{Script=Katakana}+')\n",
    "    r_hiragana = regex.compile(r'\\p{Script=Hiragana}+')\n",
    "    for n in name_df.name:\n",
    "        if r_katakana.match(n) or r_hiragana.match(n):\n",
    "            kanji.append(\"\")\n",
    "        else:\n",
    "            kanji.append(n)\n",
    "        cvt = kakasi.convert(n)\n",
    "        katakana.append(''.join([c['kana'] for c in cvt]))\n",
    "        hiragana.append(''.join([c['hira'] for c in cvt]))\n",
    "        roma.append(''.join([c['passport'] for c in cvt]))\n",
    "    name_df['kanji'] = kanji\n",
    "    name_df['katakana'] = katakana\n",
    "    name_df['hiragana'] = hiragana\n",
    "    name_df['roma'] = roma"
   ]
  },
  {
   "cell_type": "code",
   "execution_count": 75,
   "metadata": {},
   "outputs": [
    {
     "name": "stdout",
     "output_type": "stream",
     "text": [
      "    name   rank kanji katakana hiragana         roma\n",
      "0     佐藤      1    佐藤      サトウ      さとう         sato\n",
      "1     鈴木      2    鈴木      スズキ      すずき       suzuki\n",
      "2     高橋      3    高橋     タカハシ     たかはし    takahashi\n",
      "3     田中      4    田中      タナカ      たなか       tanaka\n",
      "4     伊藤      5    伊藤      イトウ      いとう          ito\n",
      "..   ...    ...   ...      ...      ...          ...\n",
      "295    陰  39996     陰       イン       いん           in\n",
      "296  日名川  39997   日名川    ニチナガワ    にちながわ  nichinagawa\n",
      "297   梶梅  39998    梶梅     カジウメ     かじうめ      kajiume\n",
      "298   西途  39999    西途      ニシト      にしと      nishito\n",
      "299   鈴記  40000    鈴記      スズキ      すずき       suzuki\n",
      "\n",
      "[300 rows x 6 columns]\n",
      "    name        rank kanji katakana hiragana       roma\n",
      "0     大翔    1.714286    大翔      ヒロト      ひろと     hiroto\n",
      "1     陽菜    2.000000    陽菜      ハルナ      はるな     haruna\n",
      "2    さくら    2.857143            サクラ      さくら     sakura\n",
      "3     美咲    5.428571    美咲      ミサキ      みさき     misaki\n",
      "4     翔太    6.857143    翔太     ショウタ     しょうた     shouta\n",
      "..   ...         ...   ...      ...      ...        ...\n",
      "295   侑真  100.000000    侑真    ユウマコト    ゆうまこと  yuumakoto\n",
      "296   奏斗  100.000000    奏斗      ソウト      そうと       soto\n",
      "297   英太  100.000000    英太      エイタ      えいた       eita\n",
      "298   颯介  100.000000    颯介     サツスケ     さつすけ  satsusuke\n",
      "299    瞬  100.000000     瞬      シュン      しゅん       shun\n",
      "\n",
      "[300 rows x 6 columns]\n"
     ]
    }
   ],
   "source": [
    "extend_names(fn_samples)\n",
    "extend_names(gn_samples)\n",
    "print(fn_samples)\n",
    "print(gn_samples)"
   ]
  },
  {
   "cell_type": "code",
   "execution_count": 76,
   "metadata": {},
   "outputs": [],
   "source": [
    "# generate names\n",
    "def generate_names(family_name: pd.DataFrame, given_name: pd.DataFrame) -> pd.DataFrame:\n",
    "    '''\n",
    "    Generate names by concatenating family_names and given_names.\n",
    "    :param family_name: pandas.DataFrame with columns of \"name\" and \"rank\"\n",
    "    :param given_name: pandas.DataFrame with columns of \"name\" and \"rank\"\n",
    "    :return: pandas.DataFrame with columsn of \"name\" and \"rank\"\n",
    "    '''\n",
    "    names, rank, kanji, katakana, hiragana, roma = list(), list(), list(), list(), list(), list()\n",
    "    for _, fn in family_name.iterrows():\n",
    "        for _, gn in given_name.iterrows():\n",
    "            names.append(fn[\"name\"] + gn[\"name\"])\n",
    "            if fn[\"kanji\"] and gn[\"kanji\"]:\n",
    "                kanji.append(fn[\"kanji\"] + gn[\"kanji\"])\n",
    "            else:\n",
    "                kanji.append(\"\")\n",
    "            katakana.append(fn[\"katakana\"] + gn[\"katakana\"])\n",
    "            hiragana.append(fn[\"hiragana\"] + gn[\"hiragana\"])\n",
    "            roma.append(fn[\"roma\"] + gn[\"roma\"])\n",
    "            rank.append(float(fn['rank']) * float(gn['rank']))\n",
    "\n",
    "    name_df = pd.DataFrame({\"name\": names, \"rank\": rank, \"kanji\": kanji, \"katakana\": katakana, \"hiragana\": hiragana, \"roma\": roma})\n",
    "    return name_df"
   ]
  },
  {
   "cell_type": "code",
   "execution_count": 77,
   "metadata": {},
   "outputs": [
    {
     "name": "stdout",
     "output_type": "stream",
     "text": [
      "        name          rank kanji katakana hiragana             roma\n",
      "0       佐藤大翔  1.714286e+00  佐藤大翔   サトウヒロト   さとうひろと       satohiroto\n",
      "1       佐藤陽菜  2.000000e+00  佐藤陽菜   サトウハルナ   さとうはるな       satoharuna\n",
      "2      佐藤さくら  2.857143e+00         サトウサクラ   さとうさくら       satosakura\n",
      "3       鈴木大翔  3.428571e+00  鈴木大翔   スズキヒロト   すずきひろと     suzukihiroto\n",
      "4       鈴木陽菜  4.000000e+00  鈴木陽菜   スズキハルナ   すずきはるな     suzukiharuna\n",
      "...      ...           ...   ...      ...      ...              ...\n",
      "89995   鈴記彪斗  4.000000e+06  鈴記彪斗  スズキヒョウト  すずきひょうと     suzukihyouto\n",
      "89996   鈴記瑞生  4.000000e+06  鈴記瑞生   スズキミズオ   すずきみずお      suzukimizuo\n",
      "89997   鈴記颯介  4.000000e+06  鈴記颯介  スズキサツスケ  すずきさつすけ  suzukisatsusuke\n",
      "89998   鈴記悠貴  4.000000e+06  鈴記悠貴   スズキユウキ   すずきゆうき      suzukiyuuki\n",
      "89999    鈴記瞬  4.000000e+06   鈴記瞬   スズキシュン   すずきしゅん       suzukishun\n",
      "\n",
      "[90000 rows x 6 columns]\n"
     ]
    }
   ],
   "source": [
    "name_df = generate_names(fn_samples, gn_samples)\n",
    "name_df = name_df.sort_values(by=\"rank\").reset_index(drop=True)\n",
    "print(name_df)"
   ]
  },
  {
   "cell_type": "code",
   "execution_count": 78,
   "metadata": {},
   "outputs": [],
   "source": [
    "fn_samples.to_csv(\"family_names.csv\", index=False, float_format=\"%d\")\n",
    "gn_samples.to_csv(\"given_names.csv\", index=False, float_format=\"%d\")\n",
    "name_df.to_csv(\"full_names.csv\", index=False, float_format=\"%d\")"
   ]
  }
 ],
 "metadata": {
  "interpreter": {
   "hash": "64d69d109ad65c694f7a8c92eece61831dba035695169ed42d5e7fb9798d83d9"
  },
  "kernelspec": {
   "display_name": "Python 3.8.10 ('kedro-env-7ILef7W6')",
   "language": "python",
   "name": "python3"
  },
  "language_info": {
   "codemirror_mode": {
    "name": "ipython",
    "version": 3
   },
   "file_extension": ".py",
   "mimetype": "text/x-python",
   "name": "python",
   "nbconvert_exporter": "python",
   "pygments_lexer": "ipython3",
   "version": "3.8.10"
  },
  "orig_nbformat": 4
 },
 "nbformat": 4,
 "nbformat_minor": 2
}
